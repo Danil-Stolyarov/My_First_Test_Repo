{
  "nbformat": 4,
  "nbformat_minor": 0,
  "metadata": {
    "colab": {
      "provenance": [],
      "authorship_tag": "ABX9TyNBjcwA+TP71lg1ER3nLUtz",
      "include_colab_link": true
    },
    "kernelspec": {
      "name": "python3",
      "display_name": "Python 3"
    },
    "language_info": {
      "name": "python"
    }
  },
  "cells": [
    {
      "cell_type": "markdown",
      "metadata": {
        "id": "view-in-github",
        "colab_type": "text"
      },
      "source": [
        "<a href=\"https://colab.research.google.com/github/Danil-Stolyarov/My_First_Test_Repo/blob/main/%D0%B7%D0%B0%D0%B4%D0%B0%D0%BD%D0%B8%D0%B5%20%D0%BD%D0%B0%20%D0%B0%D0%B2%D1%82%D0%BE%D0%BC%D0%B0%D1%82%20%D0%B2%D0%B0%D1%80%D0%B8%D0%B0%D0%BD%D1%82%20%E2%84%964.ipynb\" target=\"_parent\"><img src=\"https://colab.research.google.com/assets/colab-badge.svg\" alt=\"Open In Colab\"/></a>"
      ]
    },
    {
      "cell_type": "code",
      "source": [
        "months = ['Январь', 'Февраль', 'Март', 'Апрель', 'Май', 'Июнь', 'Июль', 'Август', 'Сентябрь', 'Октябрь', 'Ноябрь', 'Декабрь']\n",
        "precipitation = [41.3, 38.1, 43.2, 50.4, 85.7, 71.0, 78.4, 47.7, 54.2, 46.6, 41.9, 45.9]\n",
        "avg_precipitation = sum(precipitation) / len(precipitation)\n",
        "print(f'{\"Номер месяца\":^15}{\"Среднее кол-во\":^20}{\"Отклонение\":^20}')\n",
        "for i in range(12):\n",
        "    deviation = precipitation[i] - avg_precipitation\n",
        "    print(f'{i+1:^15}{precipitation[i]:^20.1f}{deviation:^20.1f}')\n",
        "    "
      ],
      "metadata": {
        "colab": {
          "base_uri": "https://localhost:8080/"
        },
        "id": "UpMH0YAs9LQB",
        "outputId": "e8f77dc8-71cf-4eab-d497-26b7dee987aa"
      },
      "execution_count": 15,
      "outputs": [
        {
          "output_type": "stream",
          "name": "stdout",
          "text": [
            " Номер месяца     Среднее кол-во        Отклонение     \n",
            "       1               41.3               -12.4        \n",
            "       2               38.1               -15.6        \n",
            "       3               43.2               -10.5        \n",
            "       4               50.4                -3.3        \n",
            "       5               85.7                32.0        \n",
            "       6               71.0                17.3        \n",
            "       7               78.4                24.7        \n",
            "       8               47.7                -6.0        \n",
            "       9               54.2                0.5         \n",
            "      10               46.6                -7.1        \n",
            "      11               41.9               -11.8        \n",
            "      12               45.9                -7.8        \n"
          ]
        }
      ]
    }
  ]
}