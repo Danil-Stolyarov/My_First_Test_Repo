{
  "nbformat": 4,
  "nbformat_minor": 0,
  "metadata": {
    "colab": {
      "provenance": [],
      "authorship_tag": "ABX9TyMhk3WByBtyjtLQ1bTM6NXV",
      "include_colab_link": true
    },
    "kernelspec": {
      "name": "python3",
      "display_name": "Python 3"
    },
    "language_info": {
      "name": "python"
    }
  },
  "cells": [
    {
      "cell_type": "markdown",
      "metadata": {
        "id": "view-in-github",
        "colab_type": "text"
      },
      "source": [
        "<a href=\"https://colab.research.google.com/github/Danil-Stolyarov/My_First_Test_Repo/blob/main/Markdown2_0.ipynb\" target=\"_parent\"><img src=\"https://colab.research.google.com/assets/colab-badge.svg\" alt=\"Open In Colab\"/></a>"
      ]
    },
    {
      "cell_type": "markdown",
      "source": [],
      "metadata": {
        "id": "VCHm58N3vREz"
      }
    },
    {
      "cell_type": "code",
      "source": [],
      "metadata": {
        "id": "oPsZcwyVvlM1"
      },
      "execution_count": 26,
      "outputs": []
    },
    {
      "cell_type": "markdown",
      "source": [
        "\n",
        "\n",
        "```\n",
        "# Выбран кодовый формат\n",
        "```\n",
        "\n",
        "\n",
        "1.   Buenas dias\n",
        "2.   Hola\n",
        "3. Namaste\n",
        "4. Bonjour\n",
        "\n",
        "---\n",
        "\n",
        "\n",
        "\n",
        "\n",
        "\n",
        "\n",
        "![hot dog](https://assets3.thrillist.com/v1/image/2996336/1584x832/scale;webp=auto;jpeg_quality=60;progressive.jpg)\n",
        "\n",
        "\n",
        "---\n",
        "\n",
        "\n",
        "\n",
        "\n",
        "[ссылка в сибирь](https://egegesh.ru/online/sheregesh-kaskad-gora)\n",
        "\n",
        "\n",
        "---\n",
        "\n",
        "цвет |количество| размер\n",
        ":----|:---------|--------:\n",
        "красный|1|25\n",
        "синий|2|345\n",
        "зеленый|4|39\n",
        "\n"
      ],
      "metadata": {
        "id": "8UsY5e0WwJks"
      }
    }
  ]
}