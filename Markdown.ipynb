{
  "nbformat": 4,
  "nbformat_minor": 0,
  "metadata": {
    "colab": {
      "provenance": [],
      "authorship_tag": "ABX9TyNXENkY/5NrE+e+anFZvsHw",
      "include_colab_link": true
    },
    "kernelspec": {
      "name": "python3",
      "display_name": "Python 3"
    },
    "language_info": {
      "name": "python"
    }
  },
  "cells": [
    {
      "cell_type": "markdown",
      "metadata": {
        "id": "view-in-github",
        "colab_type": "text"
      },
      "source": [
        "<a href=\"https://colab.research.google.com/github/Danil-Stolyarov/My_First_Test_Repo/blob/main/Markdown.ipynb\" target=\"_parent\"><img src=\"https://colab.research.google.com/assets/colab-badge.svg\" alt=\"Open In Colab\"/></a>"
      ]
    },
    {
      "cell_type": "markdown",
      "source": [],
      "metadata": {
        "id": "VCHm58N3vREz"
      }
    },
    {
      "cell_type": "code",
      "source": [],
      "metadata": {
        "id": "oPsZcwyVvlM1"
      },
      "execution_count": 26,
      "outputs": []
    },
    {
      "cell_type": "markdown",
      "source": [
        "\n",
        "\n",
        "```\n",
        "# Выбран кодовый формат\n",
        "```\n",
        "\n",
        "\n",
        "1.   Buenas dias\n",
        "2.   Hola\n",
        "3. Namaste\n",
        "4. Bonjour\n",
        "\n",
        "---\n",
        "\n",
        "\n",
        "\n",
        "\n",
        "\n",
        "\n",
        "![hot dog](https://vk.com/adyabydiabydai?z=photo329974307_457242020%2Fphotos329974307.jpg)\n",
        "\n",
        "\n",
        "---\n",
        "\n",
        "\n",
        "\n",
        "\n",
        "[ссылка в сибирь](https://egegesh.ru/online/sheregesh-kaskad-gora)\n",
        "\n",
        "\n",
        "---\n",
        "\n",
        "цвет |количество| размер\n",
        ":----|:---------|--------:\n",
        "красный|1|25\n",
        "синий|2|345\n",
        "зеленый|4|39\n",
        "\n"
      ],
      "metadata": {
        "id": "8UsY5e0WwJks"
      }
    }
  ]
}