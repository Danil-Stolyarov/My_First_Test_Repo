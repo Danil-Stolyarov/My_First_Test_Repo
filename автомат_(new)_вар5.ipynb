{
  "nbformat": 4,
  "nbformat_minor": 0,
  "metadata": {
    "colab": {
      "provenance": [],
      "authorship_tag": "ABX9TyMUENjn+cK8N4e3M46+6ERm",
      "include_colab_link": true
    },
    "kernelspec": {
      "name": "python3",
      "display_name": "Python 3"
    },
    "language_info": {
      "name": "python"
    }
  },
  "cells": [
    {
      "cell_type": "markdown",
      "metadata": {
        "id": "view-in-github",
        "colab_type": "text"
      },
      "source": [
        "<a href=\"https://colab.research.google.com/github/Danil-Stolyarov/My_First_Test_Repo/blob/main/%D0%B0%D0%B2%D1%82%D0%BE%D0%BC%D0%B0%D1%82_(new)_%D0%B2%D0%B0%D1%805.ipynb\" target=\"_parent\"><img src=\"https://colab.research.google.com/assets/colab-badge.svg\" alt=\"Open In Colab\"/></a>"
      ]
    },
    {
      "cell_type": "markdown",
      "source": [
        "**Вариант 5**"
      ],
      "metadata": {
        "id": "FVdRdQOW3H69"
      }
    },
    {
      "cell_type": "markdown",
      "source": [
        "1) Инициализировать функцию. Написать программу, выводящую нечётные числа из специализированного заданного\n",
        "списка (ввод с клавиатуры): [1000, 1769, 1000000, 9000202, 1199112223, 15, 99999999, 1009900990011122, 90000, 86626, 83377, 27613, 40660,\n",
        "60611, 95358, 19470, 57393, 84713, 91806, 4386, 47063, 46748, 71278, 93766, 25644, 99722, 48007, 55129, 97414], при этом если встречается число\n",
        "71278, то программа останавливается и выводит все нечётные числа, встречающиеся до данного числа."
      ],
      "metadata": {
        "id": "OzCiu3w-9slZ"
      }
    },
    {
      "cell_type": "code",
      "execution_count": 6,
      "metadata": {
        "colab": {
          "base_uri": "https://localhost:8080/"
        },
        "id": "skOYMXvn19WS",
        "outputId": "57c3ac1b-85ae-478f-abe0-d6df5af6246c"
      },
      "outputs": [
        {
          "output_type": "stream",
          "name": "stdout",
          "text": [
            "1769\n",
            "1199112223\n",
            "15\n",
            "99999999\n",
            "83377\n",
            "27613\n",
            "60611\n",
            "57393\n",
            "84713\n",
            "47063\n"
          ]
        }
      ],
      "source": [
        "\n",
        "  numbers = [1000, 1769, 1000000, 9000202, 1199112223, 15, 99999999, 1009900990011122, 90000, 86626, 83377, 27613, 40660, 60611, 95358, 19470, 57393, 84713, 91806, 4386, 47063, 46748, 71278, 93766, 25644, 99722, 48007, 55129, 97414]\n",
        "\n",
        "for number in numbers:\n",
        "    if number == 71278:\n",
        "        break\n",
        "    if number % 2 != 0:\n",
        "        print(number)"
      ]
    },
    {
      "cell_type": "markdown",
      "source": [
        "2) Инициализировать функцию. Дан специализированный список чисел (ввод с клавиатуры): [500, 5000, 1000, 500, 100, 500,\n",
        "10000, 5000, 500, 50, 10, 500]. Необходимо удалить из него все числа 500"
      ],
      "metadata": {
        "id": "tHzk7lfC9_EY"
      }
    },
    {
      "cell_type": "code",
      "source": [
        "numbers = [500, 5000, 1000, 500, 100, 500, 10000, 5000, 500, 50, 10, 500]\n",
        "\n",
        "while 500 in numbers:\n",
        "    numbers.remove(500)\n",
        "\n",
        "print(numbers)"
      ],
      "metadata": {
        "colab": {
          "base_uri": "https://localhost:8080/"
        },
        "id": "gL7D4Rcp9QIl",
        "outputId": "92d1744a-7126-41a8-f1c2-2af5412eac85"
      },
      "execution_count": 7,
      "outputs": [
        {
          "output_type": "stream",
          "name": "stdout",
          "text": [
            "[5000, 1000, 100, 10000, 5000, 50, 10]\n"
          ]
        }
      ]
    },
    {
      "cell_type": "markdown",
      "source": [
        "3) Инициализировать функцию.\n",
        "Сгенерировать уникальный список необходимо использовать библиотеку Random. В списке минимум 20 элементов."
      ],
      "metadata": {
        "id": "Xp-eAaQX-Gx0"
      }
    },
    {
      "cell_type": "code",
      "source": [
        "import random\n",
        "\n",
        "numbers = []\n",
        "\n",
        "while len(set(numbers)) < 50:\n",
        "    numbers.append(random.randint(1, 100))\n",
        "\n",
        "unique_numbers = list(set(numbers))\n",
        "\n",
        "while len(unique_numbers) < 20:\n",
        "    unique_numbers.append(random.randint(1, 100))\n",
        "\n",
        "print(unique_numbers)"
      ],
      "metadata": {
        "colab": {
          "base_uri": "https://localhost:8080/"
        },
        "id": "ZK0iXqkS9fbb",
        "outputId": "c56b5455-d265-45bd-ae92-3fcefb8a3672"
      },
      "execution_count": 8,
      "outputs": [
        {
          "output_type": "stream",
          "name": "stdout",
          "text": [
            "[2, 4, 8, 12, 15, 16, 17, 19, 20, 21, 24, 25, 26, 34, 35, 36, 37, 38, 43, 44, 45, 47, 49, 52, 54, 55, 57, 60, 61, 65, 67, 68, 69, 70, 73, 76, 78, 79, 80, 81, 83, 85, 86, 88, 90, 92, 95, 96, 97, 100]\n"
          ]
        }
      ]
    }
  ]
}